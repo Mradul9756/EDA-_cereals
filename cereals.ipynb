{
  "nbformat": 4,
  "nbformat_minor": 0,
  "metadata": {
    "colab": {
      "name": "cereals.ipynb",
      "provenance": [],
      "collapsed_sections": []
    },
    "kernelspec": {
      "name": "python3",
      "display_name": "Python 3"
    }
  },
  "cells": [
    {
      "cell_type": "markdown",
      "metadata": {
        "id": "RszylwzJFI4r"
      },
      "source": [
        "# Program: EDA on cereals data\n",
        "## Author: Mradul Mourya\n",
        "## Date: 03/02/2021\n",
        "## Purpose: Learning by practicing Exploratory Data Analysis, Creating bar graph, normalized bar graph, histogram, and normalized histogram\n"
      ]
    },
    {
      "cell_type": "code",
      "metadata": {
        "id": "1FsC9oh2GBJM"
      },
      "source": [
        "import matplotlib.pyplot as plt # import matplotlib for plotting graphs"
      ],
      "execution_count": 1,
      "outputs": []
    },
    {
      "cell_type": "code",
      "metadata": {
        "colab": {
          "base_uri": "https://localhost:8080/"
        },
        "id": "PTeNFQ8pBSxv",
        "outputId": "c83fdaa5-46a4-41f2-b9f9-9dd8506a6bbb"
      },
      "source": [
        "from google.colab import drive\n",
        "drive.mount('/content/drive')"
      ],
      "execution_count": 2,
      "outputs": [
        {
          "output_type": "stream",
          "text": [
            "Mounted at /content/drive\n"
          ],
          "name": "stdout"
        }
      ]
    },
    {
      "cell_type": "code",
      "metadata": {
        "id": "_20j9qyFalmf"
      },
      "source": [
        "plt.rcParams.update({'figure.autolayout': True})\n",
        "import pandas as pd # import pandas for file reading\n",
        "import numpy as np # # import for creating columns in graphs"
      ],
      "execution_count": 3,
      "outputs": []
    },
    {
      "cell_type": "code",
      "metadata": {
        "id": "WweLeqnbP5b_",
        "colab": {
          "base_uri": "https://localhost:8080/",
          "height": 241
        },
        "outputId": "2d5e6263-21fa-4ee3-9aae-b775b973c9af"
      },
      "source": [
        "cereals_data = pd.read_csv(\"/content/drive/My Drive/Colab Notebooks/cereals (1).CSV\")\n",
        "cereals_data.head() # checking if the data has loaded correctly\n"
      ],
      "execution_count": 5,
      "outputs": [
        {
          "output_type": "execute_result",
          "data": {
            "text/html": [
              "<div>\n",
              "<style scoped>\n",
              "    .dataframe tbody tr th:only-of-type {\n",
              "        vertical-align: middle;\n",
              "    }\n",
              "\n",
              "    .dataframe tbody tr th {\n",
              "        vertical-align: top;\n",
              "    }\n",
              "\n",
              "    .dataframe thead th {\n",
              "        text-align: right;\n",
              "    }\n",
              "</style>\n",
              "<table border=\"1\" class=\"dataframe\">\n",
              "  <thead>\n",
              "    <tr style=\"text-align: right;\">\n",
              "      <th></th>\n",
              "      <th>Name</th>\n",
              "      <th>Manuf</th>\n",
              "      <th>Type</th>\n",
              "      <th>Calories</th>\n",
              "      <th>Protein</th>\n",
              "      <th>Fat</th>\n",
              "      <th>Sodium</th>\n",
              "      <th>Fiber</th>\n",
              "      <th>Carbo</th>\n",
              "      <th>Sugars</th>\n",
              "      <th>Potass</th>\n",
              "      <th>Vitamins</th>\n",
              "      <th>Shelf</th>\n",
              "      <th>Weight</th>\n",
              "      <th>Cups</th>\n",
              "      <th>Rating</th>\n",
              "      <th>Cold</th>\n",
              "      <th>Nabisco</th>\n",
              "      <th>Quaker</th>\n",
              "      <th>Kelloggs</th>\n",
              "      <th>GeneralMills</th>\n",
              "      <th>Ralston</th>\n",
              "      <th>AHFP</th>\n",
              "    </tr>\n",
              "  </thead>\n",
              "  <tbody>\n",
              "    <tr>\n",
              "      <th>0</th>\n",
              "      <td>100%_Bran</td>\n",
              "      <td>N</td>\n",
              "      <td>C</td>\n",
              "      <td>70</td>\n",
              "      <td>4</td>\n",
              "      <td>1</td>\n",
              "      <td>130</td>\n",
              "      <td>10.0</td>\n",
              "      <td>5.0</td>\n",
              "      <td>6.0</td>\n",
              "      <td>280.0</td>\n",
              "      <td>25</td>\n",
              "      <td>3</td>\n",
              "      <td>1.0</td>\n",
              "      <td>0.33</td>\n",
              "      <td>68.402973</td>\n",
              "      <td>1</td>\n",
              "      <td>1</td>\n",
              "      <td>0</td>\n",
              "      <td>0</td>\n",
              "      <td>0</td>\n",
              "      <td>0</td>\n",
              "      <td>0</td>\n",
              "    </tr>\n",
              "    <tr>\n",
              "      <th>1</th>\n",
              "      <td>100%_Natural_Bran</td>\n",
              "      <td>Q</td>\n",
              "      <td>C</td>\n",
              "      <td>120</td>\n",
              "      <td>3</td>\n",
              "      <td>5</td>\n",
              "      <td>15</td>\n",
              "      <td>2.0</td>\n",
              "      <td>8.0</td>\n",
              "      <td>8.0</td>\n",
              "      <td>135.0</td>\n",
              "      <td>0</td>\n",
              "      <td>3</td>\n",
              "      <td>1.0</td>\n",
              "      <td>1.00</td>\n",
              "      <td>33.983679</td>\n",
              "      <td>1</td>\n",
              "      <td>0</td>\n",
              "      <td>1</td>\n",
              "      <td>0</td>\n",
              "      <td>0</td>\n",
              "      <td>0</td>\n",
              "      <td>0</td>\n",
              "    </tr>\n",
              "    <tr>\n",
              "      <th>2</th>\n",
              "      <td>All-Bran</td>\n",
              "      <td>K</td>\n",
              "      <td>C</td>\n",
              "      <td>70</td>\n",
              "      <td>4</td>\n",
              "      <td>1</td>\n",
              "      <td>260</td>\n",
              "      <td>9.0</td>\n",
              "      <td>7.0</td>\n",
              "      <td>5.0</td>\n",
              "      <td>320.0</td>\n",
              "      <td>25</td>\n",
              "      <td>3</td>\n",
              "      <td>1.0</td>\n",
              "      <td>0.33</td>\n",
              "      <td>59.425505</td>\n",
              "      <td>1</td>\n",
              "      <td>0</td>\n",
              "      <td>0</td>\n",
              "      <td>1</td>\n",
              "      <td>0</td>\n",
              "      <td>0</td>\n",
              "      <td>0</td>\n",
              "    </tr>\n",
              "    <tr>\n",
              "      <th>3</th>\n",
              "      <td>All-Bran_with_Extra_Fiber</td>\n",
              "      <td>K</td>\n",
              "      <td>C</td>\n",
              "      <td>50</td>\n",
              "      <td>4</td>\n",
              "      <td>0</td>\n",
              "      <td>140</td>\n",
              "      <td>14.0</td>\n",
              "      <td>8.0</td>\n",
              "      <td>0.0</td>\n",
              "      <td>330.0</td>\n",
              "      <td>25</td>\n",
              "      <td>3</td>\n",
              "      <td>1.0</td>\n",
              "      <td>0.50</td>\n",
              "      <td>93.704912</td>\n",
              "      <td>1</td>\n",
              "      <td>0</td>\n",
              "      <td>0</td>\n",
              "      <td>1</td>\n",
              "      <td>0</td>\n",
              "      <td>0</td>\n",
              "      <td>0</td>\n",
              "    </tr>\n",
              "    <tr>\n",
              "      <th>4</th>\n",
              "      <td>Almond_Delight</td>\n",
              "      <td>R</td>\n",
              "      <td>C</td>\n",
              "      <td>110</td>\n",
              "      <td>2</td>\n",
              "      <td>2</td>\n",
              "      <td>200</td>\n",
              "      <td>1.0</td>\n",
              "      <td>14.0</td>\n",
              "      <td>8.0</td>\n",
              "      <td>NaN</td>\n",
              "      <td>25</td>\n",
              "      <td>3</td>\n",
              "      <td>1.0</td>\n",
              "      <td>0.75</td>\n",
              "      <td>34.384843</td>\n",
              "      <td>1</td>\n",
              "      <td>0</td>\n",
              "      <td>0</td>\n",
              "      <td>0</td>\n",
              "      <td>0</td>\n",
              "      <td>1</td>\n",
              "      <td>0</td>\n",
              "    </tr>\n",
              "  </tbody>\n",
              "</table>\n",
              "</div>"
            ],
            "text/plain": [
              "                         Name Manuf Type  ...  GeneralMills  Ralston  AHFP\n",
              "0                  100%_Bran     N    C   ...             0        0     0\n",
              "1          100%_Natural_Bran     Q    C   ...             0        0     0\n",
              "2                   All-Bran     K    C   ...             0        0     0\n",
              "3  All-Bran_with_Extra_Fiber     K    C   ...             0        0     0\n",
              "4             Almond_Delight     R    C   ...             0        1     0\n",
              "\n",
              "[5 rows x 23 columns]"
            ]
          },
          "metadata": {
            "tags": []
          },
          "execution_count": 5
        }
      ]
    },
    {
      "cell_type": "code",
      "metadata": {
        "id": "Et05q0LpRkW6"
      },
      "source": [
        "# Creates contingency table between Manuf and Type\n",
        "crosstab_01 = pd.crosstab( \\\n",
        "    cereals_data['Manuf'], \\\n",
        "    cereals_data['Type'])"
      ],
      "execution_count": 7,
      "outputs": []
    },
    {
      "cell_type": "code",
      "metadata": {
        "id": "RVr0g6CPSLRD",
        "colab": {
          "base_uri": "https://localhost:8080/"
        },
        "outputId": "91e2238d-7435-4dba-a72e-3276f4c97eca"
      },
      "source": [
        "print(crosstab_01) # printing table"
      ],
      "execution_count": 8,
      "outputs": [
        {
          "output_type": "stream",
          "text": [
            "Type   C   H \n",
            "Manuf        \n",
            "A       0   1\n",
            "G      22   0\n",
            "K      23   0\n",
            "N       5   1\n",
            "P       9   0\n",
            "Q       7   1\n",
            "R       8   0\n"
          ],
          "name": "stdout"
        }
      ]
    },
    {
      "cell_type": "code",
      "metadata": {
        "colab": {
          "base_uri": "https://localhost:8080/",
          "height": 314
        },
        "id": "xUBLzyVxSO-z",
        "outputId": "06a7398f-f616-4027-8399-7b34e288bf56"
      },
      "source": [
        "# creating Manuf bar graph with Type as an overlay\n",
        "crosstab_01.plot( kind = 'bar', stacked = True )"
      ],
      "execution_count": 10,
      "outputs": [
        {
          "output_type": "execute_result",
          "data": {
            "text/plain": [
              "<matplotlib.axes._subplots.AxesSubplot at 0x7fd1dabfccd0>"
            ]
          },
          "metadata": {
            "tags": []
          },
          "execution_count": 10
        },
        {
          "output_type": "display_data",
          "data": {
            "image/png": "[encoded data removed]",
            "text/plain": [
              "<Figure size 432x288 with 1 Axes>"
            ]
          },
          "metadata": {
            "tags": [],
            "needs_background": "light"
          }
        }
      ]
    },
    {
      "cell_type": "code",
      "metadata": {
        "colab": {
          "base_uri": "https://localhost:8080/",
          "height": 314
        },
        "id": "nGSG5BwgTPvj",
        "outputId": "9ba982db-e85f-4e7b-d72f-1663d359dccf"
      },
      "source": [
        "# creating the normalized version of above created bar graph\n",
        "crosstab_norm = crosstab_01.div( crosstab_01.sum(axis = 1), axis = 0 )\n",
        "crosstab_norm.plot(kind='bar', stacked = True) # plotting the graph"
      ],
      "execution_count": 11,
      "outputs": [
        {
          "output_type": "execute_result",
          "data": {
            "text/plain": [
              "<matplotlib.axes._subplots.AxesSubplot at 0x7fd1da6f2e50>"
            ]
          },
          "metadata": {
            "tags": []
          },
          "execution_count": 11
        },
        {
          "output_type": "display_data",
          "data": {
            "image/png": "[encoded data removed]",
            "text/plain": [
              "<Figure size 432x288 with 1 Axes>"
            ]
          },
          "metadata": {
            "tags": [],
            "needs_background": "light"
          }
        }
      ]
    },
    {
      "cell_type": "code",
      "metadata": {
        "id": "M4X24zoRXaFx"
      },
      "source": [
        "# Histogram of Calories with Manuf Overlay\n",
        "# Separate the variable of the graph by the Manuf overlay\n",
        "# separate the variable Calories, cereals_data[‘Calories’], by the seven values of the variable Manuf\n",
        "# then creating seven different variables to store that\n",
        "manuf_n = cereals_data[cereals_data.Manuf == 'N ']['Calories']\n",
        "manuf_q = cereals_data[cereals_data.Manuf == 'Q ']['Calories']\n",
        "manuf_k = cereals_data[cereals_data.Manuf == 'K ']['Calories']\n",
        "manuf_r = cereals_data[cereals_data.Manuf == 'R ']['Calories']\n",
        "manuf_g = cereals_data[cereals_data.Manuf == 'G ']['Calories']\n",
        "manuf_p = cereals_data[cereals_data.Manuf == 'P ']['Calories']\n",
        "manuf_a = cereals_data[cereals_data.Manuf == 'A ']['Calories'] "
      ],
      "execution_count": 12,
      "outputs": []
    },
    {
      "cell_type": "code",
      "metadata": {
        "id": "7LHlBCVnX3Wt",
        "colab": {
          "base_uri": "https://localhost:8080/",
          "height": 351
        },
        "outputId": "c1e65505-e28a-4d1f-9573-be67e788edfb"
      },
      "source": [
        "# plotting a stacked histogram using seven variables as overlay\n",
        "# Also, here storing the various variables in n and bins in variable bins to later use to create its normalized version\n",
        "(n, bins, patches) = plt.hist([manuf_n, manuf_q,manuf_k,manuf_r,manuf_g,manuf_p,manuf_a], bins = 10, stacked = True) \n",
        "plt.legend(['Manuf = N', 'Manuf = Q','Manuf = K','Manuf = R','Manuf = G','Manuf = P','Manuf = A']) \n",
        "plt.title(\"Histogram of Calories with Manuf Overlay\") \n",
        "plt.xlabel(\"Calories\"); plt.ylabel(\"Frequency\"); plt.show()"
      ],
      "execution_count": 13,
      "outputs": [
        {
          "output_type": "stream",
          "text": [
            "/usr/local/lib/python3.7/dist-packages/numpy/core/_asarray.py:83: VisibleDeprecationWarning: Creating an ndarray from ragged nested sequences (which is a list-or-tuple of lists-or-tuples-or ndarrays with different lengths or shapes) is deprecated. If you meant to do this, you must specify 'dtype=object' when creating the ndarray\n",
            "  return array(a, dtype, copy=False, order=order)\n"
          ],
          "name": "stderr"
        },
        {
          "output_type": "display_data",
          "data": {
            "image/png": "[encoded data removed]",
            "text/plain": [
              "<Figure size 432x288 with 1 Axes>"
            ]
          },
          "metadata": {
            "tags": [],
            "needs_background": "light"
          }
        }
      ]
    },
    {
      "cell_type": "code",
      "metadata": {
        "id": "5uyI_7eCYURX"
      },
      "source": [
        "# construction the matrix, combine the height of the seven variables into one array\n",
        "n_table = np.column_stack((n[0], n[1], n[2], n[3], n[4], n[5], n[6]))"
      ],
      "execution_count": 14,
      "outputs": []
    },
    {
      "cell_type": "code",
      "metadata": {
        "id": "dup7NjmzZLvO"
      },
      "source": [
        "# finding proportions of the bar\n",
        "n_norm = n_table / n_table.sum(axis=1)[:, None]"
      ],
      "execution_count": 15,
      "outputs": []
    },
    {
      "cell_type": "code",
      "metadata": {
        "id": "plzDuyg-bUSu"
      },
      "source": [
        "# creates an array whose rows are the exact cuts\n",
        "ourbins = np.column_stack((bins[0:10], bins[1:11]))"
      ],
      "execution_count": 17,
      "outputs": []
    },
    {
      "cell_type": "code",
      "metadata": {
        "colab": {
          "base_uri": "https://localhost:8080/",
          "height": 297
        },
        "id": "AxcR06EBbHfV",
        "outputId": "f416f2d8-1c1f-4f9a-e6e5-2d36f598a957"
      },
      "source": [
        "# Plotting the normalized version of histogram by using plt commands\n",
        "p1 = plt.bar(x = ourbins[:,0], height = n_norm[:,0],width = ourbins[:, 1] - ourbins[:, 0])\n",
        "p2 = plt.bar(x = ourbins[:,0], height = n_norm[:,1],width = ourbins[:, 1] - ourbins[:, 0],bottom = n_norm[:,0:1].sum(axis=1))\n",
        "p3 = plt.bar(x = ourbins[:,0], height = n_norm[:,2],width = ourbins[:, 1] - ourbins[:, 0],bottom = n_norm[:,0:2].sum(axis=1))\n",
        "p4 = plt.bar(x = ourbins[:,0], height = n_norm[:,3],width = ourbins[:, 1] - ourbins[:, 0],bottom = n_norm[:,0:3].sum(axis=1))\n",
        "p5 = plt.bar(x = ourbins[:,0], height = n_norm[:,4],width = ourbins[:, 1] - ourbins[:, 0],bottom = n_norm[:,0:4].sum(axis=1))\n",
        "p6 = plt.bar(x = ourbins[:,0], height = n_norm[:,5],width = ourbins[:, 1] - ourbins[:, 0],bottom = n_norm[:,0:5].sum(axis=1))\n",
        "p7 = plt.bar(x = ourbins[:,0], height = n_norm[:,6],width = ourbins[:, 1] - ourbins[:, 0],bottom = n_norm[:,0:6].sum(axis=1))\n",
        "plt.legend(['Manuf = N', 'Manuf = Q','Manuf = K','Manuf = R','Manuf = G','Manuf = P','Manuf = A']) \n",
        "plt.savefig('fig-2-normalized-proportions.png')\n",
        "plt.xlabel('Calories'); plt.ylabel('Proportion'); plt.show()"
      ],
      "execution_count": 18,
      "outputs": [
        {
          "output_type": "display_data",
          "data": {
            "image/png": "[encoded data removed]",
            "text/plain": [
              "<Figure size 432x288 with 1 Axes>"
            ]
          },
          "metadata": {
            "tags": [],
            "needs_background": "light"
          }
        }
      ]
    }
  ]
}
